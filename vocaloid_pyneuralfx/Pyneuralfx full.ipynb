{
 "cells": [
  {
   "cell_type": "markdown",
   "metadata": {},
   "source": [
    "# Cloning PyNeuralfx (You don't need to re-clone this)"
   ]
  },
  {
   "cell_type": "code",
   "execution_count": 1,
   "metadata": {},
   "outputs": [
    {
     "name": "stdout",
     "output_type": "stream",
     "text": [
      "/home/fu/Documents/vocaloid_modeling/vocaloid_pyneuralfx/Pyneuralfx/frame_work\n"
     ]
    }
   ],
   "source": [
    "%cd ./Pyneuralfx/frame_work"
   ]
  },
  {
   "cell_type": "code",
   "execution_count": null,
   "metadata": {},
   "outputs": [
    {
     "name": "stdout",
     "output_type": "stream",
     "text": [
      " > config: ./configs/cnn/tcn/concat_tcn.yml\n",
      "> ========= Hybrid ============== <\n",
      "> [Loss] --- Hybrid Trans Loss ---\n",
      "> [Loss] --- Temporal L1 Loss ---\n",
      "> [Loss] --- Multi-resolution STFT Loss ---\n",
      "> ========= Hybrid ============== <\n",
      "> [Loss] --- Hybrid Trans Loss ---\n",
      "> [Loss] --- Temporal L1 Loss ---\n",
      "> [Loss] --- Multi-resolution STFT Loss ---\n",
      "EXP DIR:  exp/vocaloid/concat_tcn_16\n",
      " >>>>> training\n"
     ]
    }
   ],
   "source": [
    "!python main_full_vocaloid.py"
   ]
  }
 ],
 "metadata": {
  "kernelspec": {
   "display_name": ".venv",
   "language": "python",
   "name": "python3"
  },
  "language_info": {
   "codemirror_mode": {
    "name": "ipython",
    "version": 3
   },
   "file_extension": ".py",
   "mimetype": "text/x-python",
   "name": "python",
   "nbconvert_exporter": "python",
   "pygments_lexer": "ipython3",
   "version": "3.9.21"
  }
 },
 "nbformat": 4,
 "nbformat_minor": 2
}
